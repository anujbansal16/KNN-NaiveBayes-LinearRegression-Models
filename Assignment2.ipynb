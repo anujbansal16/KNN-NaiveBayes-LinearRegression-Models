{
 "cells": [
  {
   "cell_type": "markdown",
   "metadata": {},
   "source": [
    "## Assigment 2"
   ]
  },
  {
   "cell_type": "markdown",
   "metadata": {},
   "source": [
    "## 1. Import Libraries"
   ]
  },
  {
   "cell_type": "code",
   "execution_count": 2,
   "metadata": {},
   "outputs": [],
   "source": [
    "import numpy as np\n",
    "import pandas as pd\n",
    "import math\n",
    "import operator\n",
    "import matplotlib.pyplot as plt\n",
    "import matplotlib as mpl"
   ]
  },
  {
   "cell_type": "markdown",
   "metadata": {},
   "source": [
    "## Read File given a delimeter"
   ]
  },
  {
   "cell_type": "code",
   "execution_count": 3,
   "metadata": {},
   "outputs": [],
   "source": [
    "def readFile(trainFile,seperator=\",\",sample=False):\n",
    "    try:\n",
    "        data=pd.read_csv(trainFile, sep=seperator, header=None)\n",
    "        if sample:\n",
    "            data=data.sample(frac=1)\n",
    "        return data.values\n",
    "    except:\n",
    "        print(\"Error reading training data file\")"
   ]
  },
  {
   "cell_type": "markdown",
   "metadata": {},
   "source": [
    "## Distance Measure\n",
    "\n",
    "``` p=1 for manhattan```\n",
    "\n",
    "```p=2 for Euclidean (default) ```"
   ]
  },
  {
   "cell_type": "code",
   "execution_count": 4,
   "metadata": {},
   "outputs": [],
   "source": [
    "def distMeasure(dataset,testdataset,targetIndex,p):\n",
    "    n=len(testdataset)\n",
    "    dist=0\n",
    "    for i in range(n):\n",
    "        if i==targetIndex:continue\n",
    "        dist+=math.pow(abs(dataset[i]-testdataset[i]),p);\n",
    "    return math.pow(dist,1/p)"
   ]
  },
  {
   "cell_type": "markdown",
   "metadata": {},
   "source": [
    "## Train Test split"
   ]
  },
  {
   "cell_type": "code",
   "execution_count": 5,
   "metadata": {},
   "outputs": [],
   "source": [
    "def splitTrainTest(data,percent):\n",
    "    total=len(data)\n",
    "    trainTotal=int(total*percent*0.01)\n",
    "    testTotal=total-trainTotal\n",
    "    return (data[0:trainTotal],data[trainTotal:total])"
   ]
  },
  {
   "cell_type": "markdown",
   "metadata": {},
   "source": [
    "## K nearest neighbour Algorithm"
   ]
  },
  {
   "cell_type": "code",
   "execution_count": 6,
   "metadata": {},
   "outputs": [],
   "source": [
    "def KNNAlgo(train,testRecord,k,targetIndex,p):\n",
    "    dists={}\n",
    "    count=0\n",
    "    for trainRecord in train:\n",
    "        dist=distMeasure(trainRecord,testRecord,targetIndex,p)\n",
    "        dists[(str(trainRecord),trainRecord[targetIndex],count)]=dist\n",
    "        count+=1\n",
    "    sortedDict= sorted(dists.items(), key=operator.itemgetter(1))\n",
    "    labelDict={}\n",
    "    for i in range(k):\n",
    "        if sortedDict[i][0][1] in labelDict.keys():\n",
    "            labelDict[sortedDict[i][0][1]]+=1\n",
    "        else:\n",
    "            labelDict[sortedDict[i][0][1]]=1\n",
    "    return max(labelDict.items(),key=operator.itemgetter(1))[0]\n",
    "            "
   ]
  },
  {
   "cell_type": "code",
   "execution_count": 7,
   "metadata": {},
   "outputs": [],
   "source": [
    "def predict(train,test,k,targetIndex,p,dataType=\"robot\"):\n",
    "    count=0\n",
    "    TP=0\n",
    "    TN=0\n",
    "    FP=0\n",
    "    FN=0\n",
    "    totalP=0\n",
    "    totalN=0\n",
    "    if dataType==\"robot\":\n",
    "        for testRecord in test:\n",
    "            predicted=KNNAlgo(train,testRecord,k,targetIndex,p)\n",
    "            actual=testRecord[targetIndex]\n",
    "            if actual==0:\n",
    "                totalP+=1\n",
    "            elif actual==1:\n",
    "                totalN+=1\n",
    "            if actual==predicted:\n",
    "                count+=1\n",
    "                if predicted==0:\n",
    "                    TP+=1\n",
    "                else:\n",
    "                    TN+=1\n",
    "        FP=totalN-TN\n",
    "        FN=totalP-TP\n",
    "        precision=TP/(TP+FP)\n",
    "        recall=TP/(TP+FN)\n",
    "        f1Val=2*recall*precision/(recall+precision)\n",
    "        accuracy=count*100/len(test)\n",
    "        return (accuracy,precision,recall,f1Val)\n",
    "    #iris\n",
    "    else:\n",
    "        for testRecord in test:\n",
    "            predicted=KNNAlgo(train,testRecord,k,targetIndex,p)\n",
    "            actual=testRecord[targetIndex]\n",
    "            if actual==predicted:\n",
    "                count+=1\n",
    "        return ((count/len(test)),1)"
   ]
  },
  {
   "cell_type": "code",
   "execution_count": 8,
   "metadata": {},
   "outputs": [],
   "source": [
    "def trainAndPredict(trainFile,percent,k,targetIndex,dataType,p=2):\n",
    "    if dataType==\"robot\":\n",
    "        data=readFile(trainFile,\" \")\n",
    "        data=np.delete(data, 0, 1)\n",
    "        data=np.delete(data, 7, 1)\n",
    "        targetIndex=0\n",
    "    elif dataType==\"iris\":\n",
    "        data=readFile(trainFile)\n",
    "    else:\n",
    "        print(\"Invalid data type : expected iris or robot\")\n",
    "        return   \n",
    "    train,test=splitTrainTest(data,percent)\n",
    "    return predict(train,test,k,targetIndex,p,dataType)"
   ]
  },
  {
   "cell_type": "markdown",
   "metadata": {},
   "source": [
    "***\n",
    "\n",
    "## Part-1 KNN"
   ]
  },
  {
   "cell_type": "markdown",
   "metadata": {},
   "source": [
    "### 1. Robot-1"
   ]
  },
  {
   "cell_type": "code",
   "execution_count": 9,
   "metadata": {
    "scrolled": true
   },
   "outputs": [
    {
     "name": "stdout",
     "output_type": "stream",
     "text": [
      "=================================\n",
      "Accuracy=  84.0\n",
      "Precision=  0.5\n",
      "Recall=  1.0\n",
      "F1-Score=  0.6666666666666666\n"
     ]
    }
   ],
   "source": [
    "matrix=trainAndPredict(\"RobotDataset/Robot1\",80,7,1,\"robot\")\n",
    "print(\"=================================\")\n",
    "print(\"Accuracy= \",matrix[0])\n",
    "print(\"Precision= \",matrix[1])\n",
    "print(\"Recall= \",matrix[2])\n",
    "print(\"F1-Score= \",matrix[3])"
   ]
  },
  {
   "cell_type": "markdown",
   "metadata": {},
   "source": [
    "### 1. Robot-2"
   ]
  },
  {
   "cell_type": "code",
   "execution_count": 10,
   "metadata": {},
   "outputs": [
    {
     "name": "stdout",
     "output_type": "stream",
     "text": [
      "=================================\n",
      "Accuracy=  92.0\n",
      "Precision=  0.875\n",
      "Recall=  1.0\n",
      "F1-Score=  0.9333333333333333\n"
     ]
    }
   ],
   "source": [
    "matrix=trainAndPredict(\"RobotDataset/Robot2\",80,7,1,\"robot\")\n",
    "print(\"=================================\")\n",
    "print(\"Accuracy= \",matrix[0])\n",
    "print(\"Precision= \",matrix[1])\n",
    "print(\"Recall= \",matrix[2])\n",
    "print(\"F1-Score= \",matrix[3])"
   ]
  },
  {
   "cell_type": "markdown",
   "metadata": {},
   "source": [
    "### 1. Iris"
   ]
  },
  {
   "cell_type": "code",
   "execution_count": 11,
   "metadata": {
    "scrolled": false
   },
   "outputs": [
    {
     "data": {
      "text/plain": [
       "(0.9629629629629629, 1)"
      ]
     },
     "execution_count": 11,
     "metadata": {},
     "output_type": "execute_result"
    }
   ],
   "source": [
    "trainAndPredict(\"Iris/Iris.csv\",80,7,4,\"iris\")"
   ]
  },
  {
   "cell_type": "markdown",
   "metadata": {},
   "source": [
    "### 2. \"Accuracy\" vs \"K\" graph KNN Algorithm"
   ]
  },
  {
   "cell_type": "code",
   "execution_count": 12,
   "metadata": {},
   "outputs": [],
   "source": [
    "mpl.rcParams.update(mpl.rcParamsDefault)\n",
    "def drawGraph(trainFile,percent,targetIndex,dataType,title=None):\n",
    "    accuracyList1=[]\n",
    "    accuracyList2=[]\n",
    "    if dataType==\"robot\":\n",
    "        for i in range(1,18,2):\n",
    "            matrix1=trainAndPredict(trainFile,percent,i,targetIndex,\"robot\")\n",
    "            matrix2=trainAndPredict(trainFile,percent,i,targetIndex,\"robot\",1)\n",
    "            accuracyList1.append(matrix1[0])\n",
    "            accuracyList2.append(matrix2[0])\n",
    "    elif dataType==\"iris\":\n",
    "        for i in range(1,18,2):\n",
    "            matrix1=trainAndPredict(trainFile,percent,i,targetIndex,\"iris\")\n",
    "            matrix2=trainAndPredict(trainFile,percent,i,targetIndex,\"iris\",1)\n",
    "            accuracyList1.append(matrix1[0])\n",
    "            accuracyList2.append(matrix2[0])\n",
    "    else:\n",
    "        print(\"Invalid data type : expected iris or robot\")\n",
    "        return\n",
    "    plt.title(title)\n",
    "    plt.xlabel(\"number of neighbours (K)\")\n",
    "    plt.ylabel(\"Accuracy (in percent)\")\n",
    "    plt.plot(range(1,18,2), accuracyList1,color=\"orange\", linewidth=2.5, label=\"Euclidean\")\n",
    "    plt.plot(range(1,18,2), accuracyList2,color=\"green\", linewidth=2.5, label=\"Manhattan\")\n",
    "    plt.legend()\n",
    "    plt.grid(True)\n",
    "    plt.show()\n",
    "    "
   ]
  },
  {
   "cell_type": "code",
   "execution_count": 13,
   "metadata": {
    "scrolled": false
   },
   "outputs": [
    {
     "data": {
      "image/png": "[encoded data removed]",
      "text/plain": [
       "<Figure size 640x480 with 1 Axes>"
      ]
     },
     "metadata": {},
     "output_type": "display_data"
    },
    {
     "data": {
      "image/png": "[encoded data removed]",
      "text/plain": [
       "<Figure size 640x480 with 1 Axes>"
      ]
     },
     "metadata": {},
     "output_type": "display_data"
    },
    {
     "data": {
      "image/png": "[encoded data removed]",
      "text/plain": [
       "<Figure size 640x480 with 1 Axes>"
      ]
     },
     "metadata": {},
     "output_type": "display_data"
    }
   ],
   "source": [
    "drawGraph(\"Iris/Iris.csv\",80,4,\"iris\",\"IRIS\")\n",
    "drawGraph(\"RobotDataset/Robot1\",80,1,\"robot\",\"ROBOT-1\")\n",
    "drawGraph(\"RobotDataset/Robot2\",80,1,\"robot\",\"ROBOT-2\")"
   ]
  },
  {
   "cell_type": "markdown",
   "metadata": {},
   "source": [
    "## Comparision with scikit learn"
   ]
  },
  {
   "cell_type": "code",
   "execution_count": 14,
   "metadata": {},
   "outputs": [],
   "source": [
    "import sklearn\n",
    "from sklearn.neighbors import KNeighborsClassifier\n",
    "from sklearn.metrics import accuracy_score\n",
    "from sklearn.metrics import precision_recall_fscore_support\n",
    "from sklearn.model_selection import train_test_split  \n",
    "from sklearn.preprocessing import LabelEncoder\n",
    "from sklearn.metrics import classification_report, confusion_matrix  \n",
    "\n",
    "def skLearn(trainFile,trainDataPercent,delimeter,unwantedCols,NANCols,k,targetIndex,avg=None):\n",
    "    if trainDataPercent==100:\n",
    "        print(\"No Validation data (Training percent should be less than 100)\")\n",
    "        return\n",
    "    data=readFile(trainFile,delimeter)\n",
    "#     data=data.sample(frac=1)\n",
    "    \n",
    "    le = LabelEncoder()\n",
    "    X=None\n",
    "    \n",
    "    for i in NANCols:\n",
    "        data[:,i]=le.fit_transform(data[:,i])\n",
    "    \n",
    "    Y=data[:,targetIndex]\n",
    "    Y=Y.astype('int')\n",
    "    X=np.delete(data,unwantedCols,axis=1)\n",
    "    trainX,testX,trainY,testY=train_test_split(X,Y,test_size=(100-trainDataPercent)/100,shuffle=False)\n",
    "    \n",
    "    #specify p=1,2,3\n",
    "    tree = KNeighborsClassifier(n_neighbors=k,p=2)      \n",
    "    tree.fit(trainX, trainY)  \n",
    "    y_pred = tree.predict(testX)  \n",
    "    matrix=precision_recall_fscore_support(testY,y_pred,average=avg)\n",
    "    confMat=confusion_matrix(testY,y_pred)\n",
    "#     print(matrix)\n",
    "    print(\"=======================================================\")\n",
    "#     print(confMat)\n",
    "    print(\"Accuracy= \",accuracy_score(testY,y_pred))\n",
    "    print(classification_report(testY, y_pred))\n",
    "#     print(\"=======================================================\")\n",
    "#     print(\"Scikit Learn Results \")\n",
    "#     print(\"Trained on %d percent of Training data \" %(trainDataPercent))\n",
    "#     print(\"Total DataSets: \",len(data))\n",
    "#     print(\"Training DataSets: \",int(len(data)*(trainDataPercent/100)+0.5))\n",
    "#     print(\"Validation DataSets: \",int(len(data)*(1-trainDataPercent/100)+0.5))\n",
    "#     print(\"Truelly Validated: \",confMat[0][0]+confMat[1][1])\n",
    "#     print(\"Falsely Validated: \",confMat[0][1]+confMat[1][0])\n",
    "#     print(\"=======================================================\")\n",
    "#     print(\"Accuracy = \", accuracy_score(testY,y_pred))\n",
    "#     print(\"Precision = \", matrix[0])\n",
    "#     print(\"Recall = \", matrix[1])\n",
    "#     print(\"F1-Score = \", matrix[2])"
   ]
  },
  {
   "cell_type": "code",
   "execution_count": 15,
   "metadata": {
    "scrolled": true
   },
   "outputs": [
    {
     "name": "stdout",
     "output_type": "stream",
     "text": [
      "Accuracy and measurement matrix for Robot1\n",
      "=======================================================\n",
      "Accuracy=  0.8\n",
      "              precision    recall  f1-score   support\n",
      "\n",
      "           0       0.44      1.00      0.62         4\n",
      "           1       1.00      0.76      0.86        21\n",
      "\n",
      "   micro avg       0.80      0.80      0.80        25\n",
      "   macro avg       0.72      0.88      0.74        25\n",
      "weighted avg       0.91      0.80      0.82        25\n",
      "\n",
      "Accuracy and measurement matrix for Robot2\n",
      "=======================================================\n",
      "Accuracy=  0.92\n",
      "              precision    recall  f1-score   support\n",
      "\n",
      "           0       0.88      1.00      0.93        14\n",
      "           1       1.00      0.82      0.90        11\n",
      "\n",
      "   micro avg       0.92      0.92      0.92        25\n",
      "   macro avg       0.94      0.91      0.92        25\n",
      "weighted avg       0.93      0.92      0.92        25\n",
      "\n",
      "Accuracy and measurement matrix for Iris\n",
      "=======================================================\n",
      "Accuracy=  0.9629629629629629\n",
      "              precision    recall  f1-score   support\n",
      "\n",
      "           0       1.00      1.00      1.00        11\n",
      "           1       1.00      0.90      0.95        10\n",
      "           2       0.86      1.00      0.92         6\n",
      "\n",
      "   micro avg       0.96      0.96      0.96        27\n",
      "   macro avg       0.95      0.97      0.96        27\n",
      "weighted avg       0.97      0.96      0.96        27\n",
      "\n"
     ]
    }
   ],
   "source": [
    "print(\"Accuracy and measurement matrix for Robot1\")\n",
    "skLearn(\"RobotDataset/Robot1\",80,\" \",[0,1,8],[],7,1,\"binary\")\n",
    "print(\"Accuracy and measurement matrix for Robot2\")\n",
    "skLearn(\"RobotDataset/Robot2\",80,\" \",[0,1,8],[],7,1,\"binary\")\n",
    "print(\"Accuracy and measurement matrix for Iris\")\n",
    "skLearn(\"Iris/Iris.csv\",80,\",\",[4],[4],7,4)\n"
   ]
  },
  {
   "cell_type": "markdown",
   "metadata": {},
   "source": [
    "## Part 2- Naive Bayes classifier"
   ]
  },
  {
   "cell_type": "markdown",
   "metadata": {},
   "source": [
    "* ID - A unique identifier \n",
    "\n",
    "**Indexing**\n",
    "* Age - 0\n",
    "\n",
    "* Number of years of experience - 1\n",
    "\n",
    "* Annual Income - 2\n",
    "\n",
    "* ZIPCode - 3\n",
    "\n",
    "* Family size - 4 \n",
    "\n",
    "* Avgerage spending per month - 5\n",
    "\n",
    "* Education Level. 1: 12th; 2: Graduate; 3: Post Graduate  - 6\n",
    "\n",
    "* Mortgage Value of house if any - 7\n",
    "\n",
    "* Did this customer accept the personal loan offered in the last campaign? --  **Output label - 8**\n",
    "\n",
    "* Does the customer have a securities account with the bank? - 9\n",
    "\n",
    "* Does the customer have a certificate of deposit (CD) account with the bank? - 10\n",
    "\n",
    "* Does the customer use internet banking facilities? - 11\n",
    "\n",
    "* Does the customer uses a credit card issued by UniversalBank? - 12\n"
   ]
  },
  {
   "cell_type": "markdown",
   "metadata": {},
   "source": [
    "### Normal Distribution"
   ]
  },
  {
   "cell_type": "code",
   "execution_count": 16,
   "metadata": {},
   "outputs": [],
   "source": [
    "def getProbabilityNormal(x, mean, std):\n",
    "    exp = math.exp(-(math.pow(x-mean,2)/(2*math.pow(std,2))))\n",
    "    return (1 / (math.sqrt(2*math.pi) * std)) * exp"
   ]
  },
  {
   "cell_type": "code",
   "execution_count": 159,
   "metadata": {
    "scrolled": false
   },
   "outputs": [],
   "source": [
    "import pprint\n",
    "def bayesClassifier(trainFile,percent,categoricalList=[6,9,10,11,12],numericalList=[0,1,2,4,5,7]):\n",
    "    data=pd.read_csv(trainFile,\",\",header=0).sample(frac=1).values\n",
    "    data=np.delete(data,0,axis=1)\n",
    "\n",
    "    train,test=splitTrainTest(data,percent)\n",
    "    labelZeroOne=np.unique(train[:,8],return_counts=True)\n",
    "    \n",
    "\n",
    "    zeroRecords=np.where(train[:,8]==0)\n",
    "    oneRecords=np.where(train[:,8]==1)\n",
    "\n",
    "    totalZeroRecords=len(zeroRecords[0])\n",
    "    totalOneRecords=len(oneRecords[0])\n",
    "    # print(totalOneRecords,totalZeroRecords)\n",
    "    # print(labelZeroOne)\n",
    "    \n",
    "    ############################################################################\n",
    "    #Calculate all the possible probabilities of all the attributes for each hypothesis\n",
    "    \n",
    "    \n",
    "    ########## Categorical Attr start ##########\n",
    "    featureIndexDict={}\n",
    "\n",
    "    # {3:{0: {1:count,2:,3:}\n",
    "    #     1: {1:,2:,3:}\n",
    "    #     }\n",
    "    #}\n",
    "    \n",
    "    for i in categoricalList:\n",
    "        CCardUser={}\n",
    "        CCardUserONE=np.unique(train[oneRecords[0],i],return_counts=True)\n",
    "        # print(\"CCardUserONE\",CCardUserONE)\n",
    "        CCardUser[1]={value:CCardUserONE[1][index] for index,value in enumerate(CCardUserONE[0])}\n",
    "\n",
    "        CCardCUserZERO=np.unique(train[zeroRecords[0],i],return_counts=True)\n",
    "        # print(\"CCardCUserZERO\",CCardCUserZERO)\n",
    "        CCardUser[0]={value:CCardCUserZERO[1][index] for index,value in enumerate(CCardCUserZERO[0])}\n",
    "        featureIndexDict[i]=CCardUser\n",
    "    # pprint.pprint(featureIndexDict)\n",
    "    \n",
    "    ########## Categorical Attr end ##########\n",
    "    \n",
    "    ########## Numerical Attr start ##########\n",
    "    \n",
    "    meanStdDictIndex={}\n",
    "    \n",
    "    # {0:{0: {\"mean\":,\"std\":}\n",
    "    #     1: {\"mean\":,\"std\":}\n",
    "    #     }\n",
    "    # }\n",
    "    \n",
    "    for i in numericalList:\n",
    "        myDict={}\n",
    "        ageMeanONE=np.mean(train[oneRecords[0],i])\n",
    "        # print(\"ageMeanONE \",ageMeanONE)\n",
    "        ageMeanZERO=np.mean(train[zeroRecords[0],i])\n",
    "        # print(\"ageMeanZERO \",ageMeanZERO)\n",
    "        ageStdONE=np.std(train[oneRecords[0],i])\n",
    "        # print(\"ageStdONE \",ageStdONE)\n",
    "        ageStdZERO=np.std(train[zeroRecords[0],i])\n",
    "        myDict[1]={\"mean\":ageMeanONE,\"std\":ageStdONE}\n",
    "        myDict[0]={\"mean\":ageMeanZERO,\"std\":ageStdZERO}\n",
    "        meanStdDictIndex[i]=myDict\n",
    "        # print(\"ageStdZERO \",ageStdZERO)\n",
    "    # pprint.pprint(meanStdDictIndex)\n",
    "    ########## Numerical Attr end ##########\n",
    "    ############################################################################\n",
    "    \n",
    "    priorOne=totalOneRecords/(totalZeroRecords+totalOneRecords)\n",
    "    priorZero=totalZeroRecords/(totalZeroRecords+totalOneRecords)\n",
    "    priors={0:priorZero,1:priorOne}\n",
    "    totalOneZeroRecords={0:totalZeroRecords,1:totalOneRecords}\n",
    "\n",
    "    ############################ Prediction ###################################\n",
    "    count=0\n",
    "    answers={}\n",
    "    TP=0\n",
    "    TN=0\n",
    "    FP=0\n",
    "    FN=0\n",
    "    totalP=0\n",
    "    totalN=0\n",
    "    for testR in test:\n",
    "        for i in [0,1]:\n",
    "            numerical=1\n",
    "            categorical=1\n",
    "            for index in numericalList:\n",
    "                numerical*=getProbabilityNormal(testR[index],meanStdDictIndex[index][i][\"mean\"],meanStdDictIndex[index][i][\"std\"])\n",
    "            for index in categoricalList:\n",
    "                categorical*=featureIndexDict[index][i][testR[index]]/totalOneZeroRecords[i]\n",
    "            ans=categorical*numerical*priors[i]\n",
    "            answers[i]=ans\n",
    "    #     print(answers)\n",
    "        actual=testR[8]\n",
    "        if actual==0:\n",
    "            totalP+=1\n",
    "        if actual==1:\n",
    "            totalN+=1\n",
    "        if answers[1]>answers[0] and testR[8]==1:\n",
    "            count+=1\n",
    "            TN+=1\n",
    "        elif answers[1]<=answers[0] and testR[8]==0:\n",
    "            count+=1\n",
    "            TP+=1\n",
    "    FP=totalN-TN\n",
    "    FN=totalP-TP\n",
    "    precision=TP/(TP+FP)\n",
    "    recall=TP/(TP+FN)\n",
    "    f1Val=2*recall*precision/(recall+precision)\n",
    "#     print(len(test))\n",
    "#     print(count)\n",
    "    accuracy=count/len(test)\n",
    "    return (accuracy,precision,recall,f1Val)\n",
    "    \n",
    "    ############################ Prediction end ###################################\n",
    "\n"
   ]
  },
  {
   "cell_type": "code",
   "execution_count": 160,
   "metadata": {},
   "outputs": [
    {
     "name": "stdout",
     "output_type": "stream",
     "text": [
      "=================================\n",
      "Accuracy=  0.9166666666666666\n",
      "Precision=  0.96625\n",
      "Recall=  0.9415347137637028\n",
      "F1-Score=  0.9537322640345467\n"
     ]
    }
   ],
   "source": [
    "matrix=bayesClassifier(\"LoanDataset/data.csv\",80,[6,9,10,11,12],[0,1,2,4,5,7])\n",
    "print(\"=================================\")\n",
    "print(\"Accuracy= \",matrix[0])\n",
    "print(\"Precision= \",matrix[1])\n",
    "print(\"Recall= \",matrix[2])\n",
    "print(\"F1-Score= \",matrix[3])"
   ]
  },
  {
   "cell_type": "markdown",
   "metadata": {},
   "source": [
    "## Part-3 Regression"
   ]
  },
  {
   "cell_type": "markdown",
   "metadata": {},
   "source": [
    "### 1. Predicting probabiliy of getting admit"
   ]
  },
  {
   "cell_type": "code",
   "execution_count": 151,
   "metadata": {},
   "outputs": [],
   "source": [
    "def predictProbAdmit(trainFile,percent,targetIndex=8):\n",
    "    data=pd.read_csv(trainFile).values\n",
    "    train,test=splitTrainTest(data,percent)\n",
    "    testY=test[:,targetIndex]\n",
    "    test[:,0]=1\n",
    "    train[:,0]=1\n",
    "    \n",
    "    y=np.transpose(np.matrix(train[:,targetIndex]))\n",
    "    train=np.delete(train,targetIndex,axis=1)\n",
    "    test=np.delete(test,targetIndex,axis=1)\n",
    "    \n",
    "    X=np.matrix(train)\n",
    "    XT=np.transpose(X)\n",
    "    inverse=np.linalg.inv(XT*X)\n",
    "    coefficents=inverse*XT*y\n",
    "    # print(coefficents)\n",
    "    predicted=np.array(np.matrix(test)*coefficents)\n",
    "    print(\"========================\")\n",
    "    print(\"Original \", \"Predicted\")\n",
    "    print(\"========================\")\n",
    "    for actual,pre in zip(testY,predicted):\n",
    "        print(actual,\"   \",pre[0])"
   ]
  },
  {
   "cell_type": "code",
   "execution_count": 152,
   "metadata": {},
   "outputs": [
    {
     "name": "stdout",
     "output_type": "stream",
     "text": [
      "========================\n",
      "Original  Predicted\n",
      "========================\n",
      "0.48     0.5821223877616327\n",
      "0.47     0.45599721510630753\n",
      "0.53     0.6192326927922606\n",
      "0.7     0.5531126049635834\n",
      "0.78     0.7441106003715638\n",
      "0.61     0.6585151392626817\n",
      "0.74     0.6982046625663304\n",
      "0.71     0.7484359734470475\n",
      "0.93     0.9080769913300264\n",
      "0.61     0.5556663994242895\n",
      "0.53     0.6845057560781755\n",
      "0.71     0.7439977347688524\n",
      "0.8     0.7881402527802843\n",
      "0.9     0.9068660446373871\n",
      "0.96     0.9662003986426574\n",
      "0.74     0.7151647309396764\n",
      "0.94     0.9379563251289611\n",
      "0.69     0.7740315457040686\n",
      "0.82     0.8053707218839301\n",
      "0.46     0.4398545801900546\n",
      "0.91     0.9149936999482482\n",
      "0.65     0.7065207632105628\n",
      "0.71     0.795501871338779\n",
      "0.42     0.6254980271724156\n",
      "0.79     0.8351973598493889\n",
      "0.91     0.8788002997458608\n",
      "0.87     0.8549530388676725\n",
      "0.73     0.6188927799077478\n",
      "0.78     0.7892538266353268\n",
      "0.81     0.7404605188594753\n",
      "0.57     0.6621711375601607\n",
      "0.69     0.6346799175864936\n",
      "0.87     0.8144943613561574\n",
      "0.56     0.7014627938598357\n",
      "0.88     0.8640768179526406\n",
      "0.81     0.8508037467587615\n",
      "0.73     0.6280147732416149\n",
      "0.56     0.5739691238174365\n",
      "0.68     0.660827660323237\n",
      "0.81     0.7915021288530666\n",
      "0.85     0.7914238876436346\n",
      "0.76     0.7056392884258788\n",
      "0.62     0.650571736465665\n",
      "0.57     0.5699531907374261\n",
      "0.83     0.8476226734403014\n",
      "0.93     0.915686130415118\n",
      "0.68     0.6935686613459751\n",
      "0.78     0.7845306683256328\n",
      "0.88     0.8602649643229368\n",
      "0.93     0.8927283322468548\n",
      "0.64     0.6451905735574458\n",
      "0.73     0.644855345651791\n",
      "0.57     0.5869843314267343\n",
      "0.45     0.5054520935889575\n",
      "0.59     0.5328327232858594\n",
      "0.76     0.7699131448702273\n",
      "0.9     0.8818549991456488\n",
      "0.49     0.47121710876922746\n",
      "0.47     0.513584262750937\n",
      "0.77     0.7105020150270684\n",
      "0.95     0.936754162661318\n",
      "0.73     0.758212733796336\n",
      "0.55     0.7886262969559024\n",
      "0.76     0.6775285466593259\n",
      "0.78     0.855194207986139\n",
      "0.77     0.7895709021706602\n",
      "0.68     0.8257718368543547\n",
      "0.49     0.5066991347318522\n",
      "0.9     0.85145526303042\n",
      "0.62     0.649628391485221\n",
      "0.75     0.7089835680970489\n",
      "0.7     0.6845147190280191\n",
      "0.72     0.6664291139037252\n",
      "0.7     0.6642780379835961\n",
      "0.67     0.6264231732909948\n",
      "0.71     0.6488013588433923\n",
      "0.94     0.9548801185762155\n",
      "0.72     0.7110379605422811\n",
      "0.86     0.9033412337283246\n",
      "0.73     0.6372665310683292\n",
      "0.34     0.46909605450330405\n",
      "0.78     0.8614611053832572\n",
      "0.66     0.6550204857169384\n",
      "0.54     0.48984461717979644\n",
      "0.86     0.848409069082338\n",
      "0.65     0.5978158001054331\n",
      "0.71     0.7196237727539558\n",
      "0.61     0.7945329114183503\n",
      "0.92     0.9552453225875481\n",
      "0.67     0.72055567394283\n"
     ]
    }
   ],
   "source": [
    "predictProbAdmit(\"AdmissionDataset/data.csv\",80,8)"
   ]
  },
  {
   "cell_type": "markdown",
   "metadata": {},
   "source": [
    "### Comparision with scikit learn linear regression"
   ]
  },
  {
   "cell_type": "code",
   "execution_count": 155,
   "metadata": {},
   "outputs": [],
   "source": [
    "from sklearn.linear_model import LinearRegression\n",
    "\n",
    "def skLearnReg(trainFile,trainDataPercent,unwantedCols,NANCols,targetIndex):\n",
    "    if trainDataPercent==100:\n",
    "        print(\"No Validation data (Training percent should be less than 100)\")\n",
    "        return\n",
    "    data=pd.read_csv(trainFile).values\n",
    "#     data=data.sample(frac=1)\n",
    "    \n",
    "    le = LabelEncoder()\n",
    "    X=None\n",
    "    for i in NANCols:\n",
    "        data[:,i]=le.fit_transform(data[:,i])\n",
    "    \n",
    "    Y=data[:,targetIndex]\n",
    "    X=np.delete(data,unwantedCols,axis=1)\n",
    "    trainX,testX,trainY,testY=train_test_split(X,Y,test_size=(100-trainDataPercent)/100,shuffle=False)\n",
    "    \n",
    "    model = LinearRegression()      \n",
    "    reg=model.fit(trainX, trainY)  \n",
    "#     print(reg.coef_)\n",
    "#     print(reg.intercept_)\n",
    "    print(\"========================\")\n",
    "    print(\"Original \", \"Predicted\")\n",
    "    print(\"========================\")\n",
    "    for actual,pred in zip(testY,reg.predict(testX)):\n",
    "        print(actual,\"   \",pred)"
   ]
  },
  {
   "cell_type": "code",
   "execution_count": 156,
   "metadata": {},
   "outputs": [
    {
     "name": "stdout",
     "output_type": "stream",
     "text": [
      "========================\n",
      "Original  Predicted\n",
      "========================\n",
      "0.48     0.5821223877613795\n",
      "0.47     0.45599721510605806\n",
      "0.53     0.6192326927919809\n",
      "0.7     0.5531126049633159\n",
      "0.78     0.7441106003712523\n",
      "0.61     0.6585151392624113\n",
      "0.74     0.6982046625660501\n",
      "0.71     0.7484359734467829\n",
      "0.93     0.9080769913297302\n",
      "0.61     0.5556663994240334\n",
      "0.53     0.6845057560778804\n",
      "0.71     0.7439977347685809\n",
      "0.8     0.7881402527800025\n",
      "0.9     0.9068660446370846\n",
      "0.96     0.9662003986423535\n",
      "0.74     0.7151647309393914\n",
      "0.94     0.9379563251286522\n",
      "0.69     0.7740315457037901\n",
      "0.82     0.805370721883639\n",
      "0.46     0.4398545801898104\n",
      "0.91     0.9149936999479471\n",
      "0.65     0.7065207632102783\n",
      "0.71     0.7955018713384874\n",
      "0.42     0.6254980271721278\n",
      "0.79     0.8351973598490803\n",
      "0.91     0.8788002997455662\n",
      "0.87     0.8549530388673783\n",
      "0.73     0.6188927799074777\n",
      "0.78     0.7892538266350284\n",
      "0.81     0.7404605188591562\n",
      "0.57     0.6621711375598629\n",
      "0.69     0.6346799175862183\n",
      "0.87     0.8144943613558677\n",
      "0.56     0.7014627938595641\n",
      "0.88     0.8640768179523501\n",
      "0.81     0.8508037467584479\n",
      "0.73     0.6280147732413415\n",
      "0.56     0.5739691238171774\n",
      "0.68     0.6608276603229566\n",
      "0.81     0.7915021288527879\n",
      "0.85     0.7914238876433539\n",
      "0.76     0.7056392884256031\n",
      "0.62     0.6505717364654067\n",
      "0.57     0.5699531907371411\n",
      "0.83     0.8476226734400072\n",
      "0.93     0.9156861304147981\n",
      "0.68     0.6935686613457017\n",
      "0.78     0.7845306683253632\n",
      "0.88     0.8602649643226616\n",
      "0.93     0.8927283322465502\n",
      "0.64     0.6451905735571648\n",
      "0.73     0.6448553456515043\n",
      "0.57     0.5869843314264802\n",
      "0.45     0.5054520935887017\n",
      "0.59     0.5328327232855867\n",
      "0.76     0.7699131448699283\n",
      "0.9     0.8818549991453439\n",
      "0.49     0.4712171087689718\n",
      "0.47     0.5135842627506741\n",
      "0.77     0.7105020150267793\n",
      "0.95     0.9367541626610096\n",
      "0.73     0.7582127337960443\n",
      "0.55     0.7886262969556053\n",
      "0.76     0.6775285466590861\n",
      "0.78     0.8551942079858419\n",
      "0.77     0.7895709021704076\n",
      "0.68     0.8257718368540563\n",
      "0.49     0.5066991347315868\n",
      "0.9     0.8514552630301324\n",
      "0.62     0.6496283914849612\n",
      "0.75     0.708983568096766\n",
      "0.7     0.6845147190277716\n",
      "0.72     0.6664291139034426\n",
      "0.7     0.6642780379833111\n",
      "0.67     0.626423173290729\n",
      "0.71     0.6488013588431045\n",
      "0.94     0.9548801185759008\n",
      "0.72     0.7110379605420047\n",
      "0.86     0.9033412337280202\n",
      "0.73     0.6372665310680612\n",
      "0.34     0.4690960545030667\n",
      "0.78     0.86146110538296\n",
      "0.66     0.655020485716663\n",
      "0.54     0.4898446171795354\n",
      "0.86     0.848409069082039\n",
      "0.65     0.5978158001051825\n",
      "0.71     0.7196237727536796\n",
      "0.61     0.7945329114180364\n",
      "0.92     0.9552453225872299\n",
      "0.67     0.7205556739425596\n"
     ]
    }
   ],
   "source": [
    "skLearnReg(\"AdmissionDataset/data.csv\",80,[0,8],[],8)"
   ]
  }
 ],
 "metadata": {
  "kernelspec": {
   "display_name": "Python 3",
   "language": "python",
   "name": "python3"
  },
  "language_info": {
   "codemirror_mode": {
    "name": "ipython",
    "version": 3
   },
   "file_extension": ".py",
   "mimetype": "text/x-python",
   "name": "python",
   "nbconvert_exporter": "python",
   "pygments_lexer": "ipython3",
   "version": "3.7.1"
  }
 },
 "nbformat": 4,
 "nbformat_minor": 2
}
